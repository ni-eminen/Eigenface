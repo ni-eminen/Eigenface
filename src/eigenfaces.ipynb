{
 "cells": [
  {
   "cell_type": "markdown",
   "source": [
    "### Let's import numpy, PIL and some sklearn modules for the popular olivetti dataset and splitting training data."
   ],
   "metadata": {
    "collapsed": false
   }
  },
  {
   "cell_type": "code",
   "execution_count": 2,
   "outputs": [],
   "source": [
    "import numpy as np\n",
    "from PIL import Image\n",
    "from sklearn.datasets import fetch_olivetti_faces\n",
    "from sklearn.model_selection import train_test_split\n",
    "from helpers import EigenfaceHelpers, negative_vector"
   ],
   "metadata": {
    "collapsed": false
   }
  },
  {
   "cell_type": "markdown",
   "source": [
    "### Define constants."
   ],
   "metadata": {
    "collapsed": false
   }
  },
  {
   "cell_type": "code",
   "execution_count": 3,
   "outputs": [],
   "source": [
    "# Define constants\n",
    "IMG_SHAPE = (64, 64)"
   ],
   "metadata": {
    "collapsed": false
   }
  },
  {
   "cell_type": "markdown",
   "source": [
    "### Download the dataset, reshape the images into vectors and split it into pieces for training."
   ],
   "metadata": {
    "collapsed": false
   }
  },
  {
   "cell_type": "code",
   "execution_count": 4,
   "outputs": [],
   "source": [
    "# Download Olivetti faces dataset\n",
    "olivetti = fetch_olivetti_faces()\n",
    "X = olivetti.images\n",
    "y = olivetti.target\n",
    "# Print info on shapes and reshape where necessary\n",
    "X = X.reshape((400, 4096))\n",
    "indices = np.arange(len(X))\n",
    "Xtrain, Xtest, ytrain, ytest, idx_train, idx_test = train_test_split(X, y, indices)"
   ],
   "metadata": {
    "collapsed": false
   }
  },
  {
   "cell_type": "markdown",
   "source": [
    "### Define methods."
   ],
   "metadata": {
    "collapsed": false
   }
  },
  {
   "cell_type": "code",
   "execution_count": 5,
   "outputs": [],
   "source": [
    "all_imgs = []\n",
    "training_set_photo_names = []\n",
    "\n",
    "# Create an np.array from the vectors\n",
    "training_set = Xtrain"
   ],
   "metadata": {
    "collapsed": false
   }
  },
  {
   "cell_type": "markdown",
   "source": [
    "### Construct the average face from the training set."
   ],
   "metadata": {
    "collapsed": false
   }
  },
  {
   "cell_type": "code",
   "execution_count": 6,
   "outputs": [],
   "source": [
    "# Average face using numpy\n",
    "avg_face = training_set.mean(axis=0)"
   ],
   "metadata": {
    "collapsed": false
   }
  },
  {
   "cell_type": "markdown",
   "source": [],
   "metadata": {
    "collapsed": false
   }
  },
  {
   "cell_type": "code",
   "execution_count": 7,
   "outputs": [],
   "source": [
    "# Let's create the matrix A by subtracting the average face from each face in the training set\n",
    "A = []\n",
    "neg_avg_face = negative_vector(avg_face)\n",
    "sub = None\n",
    "for v in training_set:\n",
    "    sub = np.subtract(v, avg_face)\n",
    "    A.append(sub)\n",
    "\n",
    "# Convert A to a matrix\n",
    "A_m = np.asmatrix(A)\n",
    "\n",
    "A_t = np.array(A).transpose()"
   ],
   "metadata": {
    "collapsed": false
   }
  },
  {
   "cell_type": "code",
   "execution_count": 8,
   "outputs": [],
   "source": [
    "# Form the covariance matrix\n",
    "cov_matrix = np.cov(np.array(A))"
   ],
   "metadata": {
    "collapsed": false
   }
  },
  {
   "cell_type": "code",
   "execution_count": 9,
   "outputs": [],
   "source": [
    "# Calculate the eigenvectors of the covariance matrix\n",
    "eigenvalues, eigenvectors = np.linalg.eig(cov_matrix)\n",
    "eig_pairs = [(eigenvalues[index], eigenvectors[:, index]) for index in range(len(eigenvalues))]\n",
    "\n",
    "eig_pairs.sort(reverse=True)\n",
    "eigvalues_sort = [eig_pairs[index][0] for index in range(len(eigenvalues))]\n",
    "eigvectors_sort = [eig_pairs[index][1] for index in range(len(eigenvalues))]"
   ],
   "metadata": {
    "collapsed": false
   }
  },
  {
   "cell_type": "code",
   "execution_count": 10,
   "outputs": [],
   "source": [
    "# Choose the 10 eigenvectors with the highest eigenvalues as the eigenfaces\n",
    "eigenfaces = np.array(eigvectors_sort[:20]).transpose()"
   ],
   "metadata": {
    "collapsed": false
   }
  },
  {
   "cell_type": "code",
   "execution_count": 11,
   "outputs": [],
   "source": [
    "# Calculate eiganfaces\n",
    "# Create reduced eigenface space\n",
    "proj_data = np.dot(training_set.transpose(), eigenfaces)\n",
    "proj_data = proj_data.transpose()\n",
    "# Calculate weights for eigenfaces\n",
    "w = np.array([np.dot(proj_data, i) for i in np.array(A)])"
   ],
   "metadata": {
    "collapsed": false
   }
  },
  {
   "cell_type": "code",
   "execution_count": 12,
   "outputs": [],
   "source": [
    "from sklearn.metrics import classification_report\n",
    "\n",
    "correct_ids = []\n",
    "predicted_ids = []\n",
    "\n",
    "# Get images from dataset and convert them to vectors\n",
    "test_index = 20\n",
    "for test_index in range(len(Xtest)):\n",
    "    unknown_face_vector = Xtest[test_index]\n",
    "    mean_unknown_face = np.subtract(unknown_face_vector, avg_face)\n",
    "    w_unknown = np.dot(proj_data, mean_unknown_face)\n",
    "    difference_vector = w - w_unknown\n",
    "    norms = np.linalg.norm(difference_vector, axis=1)\n",
    "    index = np.argmin(norms)\n",
    "\n",
    "    correct_ids.append(y[idx_test[test_index]])\n",
    "    predicted_ids.append(y[idx_train[index]])\n"
   ],
   "metadata": {
    "collapsed": false
   }
  },
  {
   "cell_type": "code",
   "execution_count": 13,
   "outputs": [
    {
     "name": "stdout",
     "output_type": "stream",
     "text": [
      "              precision    recall  f1-score   support\n",
      "\n",
      "           0       0.50      0.33      0.40         3\n",
      "           1       1.00      0.75      0.86         4\n",
      "           2       1.00      0.50      0.67         2\n",
      "           3       0.00      0.00      0.00         1\n",
      "           4       1.00      0.67      0.80         3\n",
      "           5       1.00      1.00      1.00         1\n",
      "           6       0.50      1.00      0.67         2\n",
      "           7       1.00      1.00      1.00         3\n",
      "           8       0.50      1.00      0.67         2\n",
      "           9       1.00      0.33      0.50         3\n",
      "          10       1.00      1.00      1.00         1\n",
      "          11       1.00      0.50      0.67         2\n",
      "          12       1.00      0.75      0.86         4\n",
      "          13       1.00      1.00      1.00         2\n",
      "          14       0.00      0.00      0.00         0\n",
      "          15       0.00      0.00      0.00         3\n",
      "          16       1.00      1.00      1.00         4\n",
      "          17       1.00      1.00      1.00         3\n",
      "          18       1.00      1.00      1.00         1\n",
      "          19       1.00      1.00      1.00         3\n",
      "          20       0.50      1.00      0.67         2\n",
      "          21       1.00      1.00      1.00         1\n",
      "          22       0.25      0.33      0.29         3\n",
      "          23       1.00      1.00      1.00         3\n",
      "          24       0.75      1.00      0.86         3\n",
      "          25       0.50      1.00      0.67         1\n",
      "          26       1.00      1.00      1.00         2\n",
      "          28       1.00      0.75      0.86         4\n",
      "          29       0.80      1.00      0.89         4\n",
      "          30       1.00      1.00      1.00         1\n",
      "          31       1.00      1.00      1.00         2\n",
      "          32       1.00      1.00      1.00         4\n",
      "          33       1.00      1.00      1.00         2\n",
      "          34       1.00      0.40      0.57         5\n",
      "          35       1.00      1.00      1.00         2\n",
      "          36       1.00      1.00      1.00         4\n",
      "          37       1.00      1.00      1.00         4\n",
      "          38       1.00      1.00      1.00         5\n",
      "          39       0.20      1.00      0.33         1\n",
      "\n",
      "    accuracy                           0.81       100\n",
      "   macro avg       0.81      0.80      0.77       100\n",
      "weighted avg       0.86      0.81      0.81       100\n",
      "\n"
     ]
    }
   ],
   "source": [
    "print(classification_report(correct_ids, predicted_ids, zero_division=0))"
   ],
   "metadata": {
    "collapsed": false
   }
  }
 ],
 "metadata": {
  "kernelspec": {
   "display_name": "Python 3",
   "language": "python",
   "name": "python3"
  },
  "language_info": {
   "codemirror_mode": {
    "name": "ipython",
    "version": 2
   },
   "file_extension": ".py",
   "mimetype": "text/x-python",
   "name": "python",
   "nbconvert_exporter": "python",
   "pygments_lexer": "ipython2",
   "version": "2.7.6"
  }
 },
 "nbformat": 4,
 "nbformat_minor": 0
}
