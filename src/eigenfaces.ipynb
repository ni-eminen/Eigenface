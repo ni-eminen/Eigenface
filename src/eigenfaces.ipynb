{
 "cells": [
  {
   "cell_type": "code",
   "execution_count": null,
   "metadata": {
    "collapsed": true,
    "pycharm": {
     "is_executing": true
    }
   },
   "outputs": [],
   "source": [
    "import numpy as np\n",
    "from PIL import Image\n",
    "import glob\n",
    "\n",
    "IMG_SHAPE = (250, 250)\n",
    "\n",
    "\n",
    "def img_to_vector(path_to_img):\n",
    "    # Load the image\n",
    "    img = Image.open(path_to_img).convert('L')\n",
    "\n",
    "    # Convert the image into n²*1 array\n",
    "    arr = np.array(img)\n",
    "    flat_array = arr.ravel()\n",
    "\n",
    "    return flat_array\n",
    "\n",
    "\n",
    "def vector_to_img(vector, shape):\n",
    "    array = vector.reshape(shape)\n",
    "    img = Image.fromarray(array)\n",
    "    return img\n",
    "\n",
    "\n",
    "def sum_of_vectors(arr: []):\n",
    "    sum_vector = np.zeros(len(arr[0]))\n",
    "    for i in range(0, len(arr[0])):\n",
    "        for v in arr:\n",
    "            sum_vector[i] += v[i]\n",
    "\n",
    "    return sum_vector\n",
    "\n",
    "\n",
    "def scalar_multiply_vector(scalar, v):\n",
    "    arr = np.array([])\n",
    "    for x in v:\n",
    "        arr = np.append(arr, x * scalar)\n",
    "    return arr\n",
    "\n",
    "\n",
    "def negative_vector(v):\n",
    "    new_v = []\n",
    "    for x in v:\n",
    "        new_v.append(-x)\n",
    "    return np.array(new_v)"
   ]
  },
  {
   "cell_type": "code",
   "execution_count": null,
   "outputs": [],
   "source": [
    "all_imgs = []\n",
    "\n",
    "# Get images from dataset and convert them to vectors\n",
    "for folder in glob.iglob('../dataset/*'):\n",
    "    for img in glob.iglob(folder + '/*'):\n",
    "        all_imgs.append(img_to_vector(img))\n",
    "\n",
    "# Create an np.array from the vectors\n",
    "training_set = np.array(np.array(all_imgs))\n"
   ],
   "metadata": {
    "collapsed": false
   }
  },
  {
   "cell_type": "code",
   "execution_count": null,
   "outputs": [],
   "source": [
    "# Average face using numpy\n",
    "avg_face = training_set.mean(axis=0)"
   ],
   "metadata": {
    "collapsed": false
   }
  },
  {
   "cell_type": "code",
   "execution_count": null,
   "outputs": [],
   "source": [
    "# Let's create the matrix A by subtracting the average face from each face in the training set\n",
    "A = []\n",
    "neg_avg_face = negative_vector(avg_face)\n",
    "for v in training_set:\n",
    "    A.append(sum_of_vectors([v, neg_avg_face]))\n",
    "\n",
    "# Convert A to a matrix\n",
    "A_m = np.asmatrix(A)\n",
    "\n",
    "A_t = A_m.transpose()\n"
   ],
   "metadata": {
    "collapsed": false
   }
  },
  {
   "cell_type": "code",
   "execution_count": null,
   "outputs": [],
   "source": [
    "# Form the covariance matrix\n",
    "cov_matrix = np.matmul(A_m, A_t)"
   ],
   "metadata": {
    "collapsed": false
   }
  },
  {
   "cell_type": "code",
   "execution_count": null,
   "outputs": [],
   "source": [
    "# Calculate the eigenvectors of the covariance matrix\n",
    "eigenvalues, eigenvectors = np.linalg.eig(cov_matrix)\n",
    "\n",
    "eigenpairs = []\n",
    "for i in range(0, len(eigenvalues)):\n",
    "    eigenpairs.append([eigenvalues[i], eigenvectors[i]])\n",
    "\n",
    "# Sort the eigenfaces by the highest eigenvalue\n",
    "eigenpairs.sort(key=lambda x: x[0])"
   ],
   "metadata": {
    "collapsed": false
   }
  },
  {
   "cell_type": "code",
   "execution_count": null,
   "outputs": [],
   "source": [
    "eigenfaces = []\n",
    "# Choose the 10 eigenvectors with the highest eigenvalues as the eigenfaces\n",
    "for pair in eigenpairs[1:11]:\n",
    "    eigenfaces.append(pair[1])"
   ],
   "metadata": {
    "collapsed": false
   }
  },
  {
   "cell_type": "code",
   "execution_count": null,
   "outputs": [],
   "source": [
    "# Calculate eiganfaces\n",
    "# Create reduced eigenface space\n",
    "eigenspace = []\n",
    "for v in eigenfaces:\n",
    "    eigenspace.append(np.matmul(v, A_m))"
   ],
   "metadata": {
    "collapsed": false
   }
  },
  {
   "cell_type": "code",
   "execution_count": null,
   "outputs": [],
   "source": [
    "# calculate eigenface of image in question\n",
    "test_image: np.ndarray = img_to_vector('../dataset/test/George_W_Bush_0001.jpg')\n",
    "mean_test_image = sum_of_vectors([test_image, neg_avg_face])\n",
    "#vector_to_img(mean_test_imgage, shape=IMG_SHAPE).show()"
   ],
   "metadata": {
    "collapsed": false
   }
  },
  {
   "cell_type": "code",
   "execution_count": null,
   "outputs": [],
   "source": [
    "# Project the eigfaces to eigspace\n",
    "proj_data = np.dot(training_set.transpose(), eigenfaces)\n",
    "proj_data = proj_data.transpose()\n",
    "\n",
    "#for x in proj_data:\n",
    "#    vector_to_img(x, shape=IMG_SHAPE).show()"
   ],
   "metadata": {
    "collapsed": false
   }
  }
 ],
 "metadata": {
  "kernelspec": {
   "display_name": "Python 3",
   "language": "python",
   "name": "python3"
  },
  "language_info": {
   "codemirror_mode": {
    "name": "ipython",
    "version": 2
   },
   "file_extension": ".py",
   "mimetype": "text/x-python",
   "name": "python",
   "nbconvert_exporter": "python",
   "pygments_lexer": "ipython2",
   "version": "2.7.6"
  }
 },
 "nbformat": 4,
 "nbformat_minor": 0
}
