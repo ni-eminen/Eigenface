{
 "cells": [
  {
   "cell_type": "code",
   "execution_count": 311,
   "outputs": [],
   "source": [
    "import numpy as np\n",
    "from PIL import Image\n",
    "import glob\n",
    "from sklearn.datasets import fetch_olivetti_faces\n",
    "from sklearn.model_selection import train_test_split"
   ],
   "metadata": {
    "collapsed": false
   }
  },
  {
   "cell_type": "code",
   "execution_count": 312,
   "outputs": [
    {
     "name": "stdout",
     "output_type": "stream",
     "text": [
      "[16 11  5  8 30 21 12 21 37 34 32 30  7  3 30 38 35 21  9 22 34 14  0 34\n",
      " 14 31 15  9 36 14 24 38  3  2 29 10 31 30 29 19 13  2 37 14 33 36 13 19\n",
      " 15 27 31 37 37 29  9 31 38 17 26 39 22 11 25  0 36 38 23 26  0 18 16 28\n",
      " 25  9 14 23 27 24 19  0  0  8 38 17  1 15 35 30  8 18  1 22 36  2 28 15\n",
      "  2  5 39 28 26 12 33 27  1 20 36 23 14  9 18 16 19 37 37 12 11 18  4  4\n",
      " 15 35 16  7 30  6  7 19 10 22 16  8 20 26  7  0  6  4 25 13 24 37 19 24\n",
      "  9 16 35 16 35 13  8 32 12 38 16 18 31 15  0  9 22 35 21  4  8 19  4 20\n",
      " 17 10 29  7  6  7 18 22 21 31 11 29 26 34 12 11 18 25 14 19  2 39  6  4\n",
      " 22 29 17 29  4 13 14 34 22  2  6 31 39 36  0 26 32 12 26 39 34 26  7 19\n",
      " 10 29 20 11  3 17 23 10 34 20 28 25 32 18 34  4 29  6  5 32 18 20 23 10\n",
      "  3  9  1  1 10  2 31  7 14  5 28  3 27  6 39 33 38 15 33  4 35 25  8 15\n",
      "  3  5 28 39 28 31 33 38 11  6 24  1  3 23 27 25 28  7  5 32 28 15 21 18\n",
      " 33 33 38 33 34 24  1  9 33 35 16 20]\n",
      "300 300\n"
     ]
    }
   ],
   "source": [
    "# Define constants\n",
    "IMG_SHAPE = (64, 64)\n",
    "# Download Olivetti faces dataset\n",
    "olivetti = fetch_olivetti_faces()\n",
    "X = olivetti.images\n",
    "y = olivetti.target\n",
    "# Print info on shapes and reshape where necessary\n",
    "X = X.reshape((400, 4096))\n",
    "indices = np.arange(len(X))\n",
    "Xtrain, Xtest, ytrain, ytest, idx_train, idx_test = train_test_split(X, y, indices)\n",
    "print(ytrain)\n",
    "print(len(idx_train), len(Xtrain))"
   ],
   "metadata": {
    "collapsed": false
   }
  },
  {
   "cell_type": "code",
   "execution_count": 313,
   "metadata": {
    "collapsed": true
   },
   "outputs": [],
   "source": [
    "def crop_image(img):\n",
    "    width, height = img.size\n",
    "\n",
    "    new_width = IMG_SHAPE[0]\n",
    "    new_height = IMG_SHAPE[1]\n",
    "    left = (width - new_width)/2 - .5\n",
    "    top = (height - new_height)/2 - .5\n",
    "    right = (width + new_width)/2 - .5\n",
    "    bottom = (height + new_height)/2 - .5\n",
    "\n",
    "    # Crop the center of the image\n",
    "    im = img.crop((left, top, right, bottom))\n",
    "\n",
    "    return im\n",
    "\n",
    "def img_to_vector(path_to_img):\n",
    "    # Load the image\n",
    "    img = Image.open(path_to_img).convert('L')\n",
    "    img = crop_image(img)\n",
    "\n",
    "    # Convert the image into n²*1 array\n",
    "    arr = np.array(img)\n",
    "    flat_array = arr.ravel()\n",
    "\n",
    "    return flat_array\n",
    "\n",
    "\n",
    "def vector_to_img(vector, shape = IMG_SHAPE):\n",
    "    array = vector.reshape(shape)\n",
    "    img = Image.fromarray(array)\n",
    "    return img\n",
    "\n",
    "def sum_of_vectors(arr: []):\n",
    "    sum_vector = np.zeros(len(arr[0]))\n",
    "    for i in range(0, len(arr[0])):\n",
    "        for v in arr:\n",
    "            sum_vector[i] += v[i]\n",
    "\n",
    "    return sum_vector\n",
    "\n",
    "\n",
    "def scalar_multiply_vector(scalar, v):\n",
    "    arr = np.array([])\n",
    "    for x in v:\n",
    "        arr = np.append(arr, x * scalar)\n",
    "    return arr\n",
    "\n",
    "\n",
    "def negative_vector(v):\n",
    "    new_v = []\n",
    "    for x in v:\n",
    "        new_v.append(-x)\n",
    "    return np.array(new_v)"
   ]
  },
  {
   "cell_type": "code",
   "execution_count": 314,
   "outputs": [],
   "source": [
    "all_imgs = []\n",
    "training_set_photo_names = []\n",
    "\n",
    "# Create an np.array from the vectors\n",
    "training_set = Xtrain"
   ],
   "metadata": {
    "collapsed": false
   }
  },
  {
   "cell_type": "code",
   "execution_count": 315,
   "outputs": [],
   "source": [
    "# Average face using numpy\n",
    "avg_face = training_set.mean(axis=0)"
   ],
   "metadata": {
    "collapsed": false
   }
  },
  {
   "cell_type": "code",
   "execution_count": 316,
   "outputs": [],
   "source": [
    "# Let's create the matrix A by subtracting the average face from each face in the training set\n",
    "A = []\n",
    "neg_avg_face = negative_vector(avg_face)\n",
    "sub = None\n",
    "for v in training_set:\n",
    "    sub = np.subtract(v, avg_face)\n",
    "    A.append(sub)\n",
    "\n",
    "# Convert A to a matrix\n",
    "A_m = np.asmatrix(A)\n",
    "\n",
    "A_t = np.array(A).transpose()"
   ],
   "metadata": {
    "collapsed": false
   }
  },
  {
   "cell_type": "code",
   "execution_count": 317,
   "outputs": [],
   "source": [
    "# Form the covariance matrix\n",
    "cov_matrix = np.cov(np.array(A))"
   ],
   "metadata": {
    "collapsed": false
   }
  },
  {
   "cell_type": "code",
   "execution_count": 318,
   "outputs": [],
   "source": [
    "# Calculate the eigenvectors of the covariance matrix\n",
    "eigenvalues, eigenvectors = np.linalg.eig(cov_matrix)\n",
    "eig_pairs = [(eigenvalues[index], eigenvectors[:,index]) for index in range(len(eigenvalues))]\n",
    "\n",
    "eig_pairs.sort(reverse=True)\n",
    "eigvalues_sort  = [eig_pairs[index][0] for index in range(len(eigenvalues))]\n",
    "eigvectors_sort = [eig_pairs[index][1] for index in range(len(eigenvalues))]"
   ],
   "metadata": {
    "collapsed": false
   }
  },
  {
   "cell_type": "code",
   "execution_count": 319,
   "outputs": [],
   "source": [
    "# Choose the 10 eigenvectors with the highest eigenvalues as the eigenfaces\n",
    "eigenfaces = np.array(eigvectors_sort[:20]).transpose()"
   ],
   "metadata": {
    "collapsed": false
   }
  },
  {
   "cell_type": "code",
   "execution_count": 320,
   "outputs": [],
   "source": [
    "# Calculate eiganfaces\n",
    "# Create reduced eigenface space\n",
    "proj_data = np.dot(training_set.transpose(), eigenfaces)\n",
    "proj_data = proj_data.transpose()\n",
    "# Calculate weights for eigenfaces\n",
    "w = np.array([np.dot(proj_data,i) for i in np.array(A)])"
   ],
   "metadata": {
    "collapsed": false
   }
  },
  {
   "cell_type": "code",
   "execution_count": 333,
   "outputs": [],
   "source": [
    "from sklearn.metrics import classification_report\n",
    "\n",
    "correct_ids = []\n",
    "predicted_ids = []\n",
    "\n",
    "# Get images from dataset and convert them to vectors\n",
    "test_index = 20\n",
    "for test_index in range(len(Xtest)):\n",
    "    unknown_face_vector = Xtest[test_index]\n",
    "    mean_unknown_face = np.subtract(unknown_face_vector, avg_face)\n",
    "    w_unknown = np.dot(proj_data, mean_unknown_face)\n",
    "    difference_vector = w - w_unknown\n",
    "    norms = np.linalg.norm(difference_vector, axis=1)\n",
    "    index = np.argmin(norms)\n",
    "\n",
    "    correct_ids.append(y[idx_test[test_index]])\n",
    "    predicted_ids.append(y[idx_train[index]])"
   ],
   "metadata": {
    "collapsed": false
   }
  },
  {
   "cell_type": "code",
   "execution_count": 334,
   "outputs": [
    {
     "name": "stdout",
     "output_type": "stream",
     "text": [
      "              precision    recall  f1-score   support\n",
      "\n",
      "           0       0.50      0.50      0.50         2\n",
      "           1       1.00      1.00      1.00         3\n",
      "           2       0.38      1.00      0.55         3\n",
      "           3       1.00      0.67      0.80         3\n",
      "           4       0.33      1.00      0.50         1\n",
      "           5       1.00      1.00      1.00         4\n",
      "           6       1.00      1.00      1.00         2\n",
      "           7       0.00      0.00      0.00         1\n",
      "           8       0.75      1.00      0.86         3\n",
      "           9       1.00      1.00      1.00         1\n",
      "          10       1.00      1.00      1.00         3\n",
      "          11       1.00      0.67      0.80         3\n",
      "          12       0.67      0.50      0.57         4\n",
      "          13       1.00      1.00      1.00         5\n",
      "          14       1.00      1.00      1.00         1\n",
      "          15       1.00      1.00      1.00         1\n",
      "          16       0.50      1.00      0.67         1\n",
      "          17       1.00      1.00      1.00         5\n",
      "          19       1.00      1.00      1.00         1\n",
      "          20       0.50      0.33      0.40         3\n",
      "          21       1.00      1.00      1.00         4\n",
      "          22       0.33      0.50      0.40         2\n",
      "          23       1.00      0.75      0.86         4\n",
      "          24       0.75      0.75      0.75         4\n",
      "          25       0.00      0.00      0.00         3\n",
      "          26       1.00      1.00      1.00         2\n",
      "          27       1.00      0.60      0.75         5\n",
      "          28       0.50      1.00      0.67         1\n",
      "          29       1.00      1.00      1.00         1\n",
      "          30       0.75      0.75      0.75         4\n",
      "          31       1.00      1.00      1.00         1\n",
      "          32       1.00      0.75      0.86         4\n",
      "          33       1.00      1.00      1.00         1\n",
      "          34       0.33      1.00      0.50         1\n",
      "          35       1.00      1.00      1.00         2\n",
      "          36       1.00      1.00      1.00         4\n",
      "          37       1.00      0.67      0.80         3\n",
      "          38       1.00      1.00      1.00         1\n",
      "          39       0.00      0.00      0.00         3\n",
      "\n",
      "    accuracy                           0.78       100\n",
      "   macro avg       0.78      0.81      0.77       100\n",
      "weighted avg       0.81      0.78      0.78       100\n",
      "\n"
     ]
    }
   ],
   "source": [
    "print(classification_report(correct_ids, predicted_ids, zero_division=0))"
   ],
   "metadata": {
    "collapsed": false
   }
  },
  {
   "cell_type": "code",
   "execution_count": null,
   "outputs": [],
   "source": [],
   "metadata": {
    "collapsed": false
   }
  }
 ],
 "metadata": {
  "kernelspec": {
   "display_name": "Python 3",
   "language": "python",
   "name": "python3"
  },
  "language_info": {
   "codemirror_mode": {
    "name": "ipython",
    "version": 2
   },
   "file_extension": ".py",
   "mimetype": "text/x-python",
   "name": "python",
   "nbconvert_exporter": "python",
   "pygments_lexer": "ipython2",
   "version": "2.7.6"
  }
 },
 "nbformat": 4,
 "nbformat_minor": 0
}
