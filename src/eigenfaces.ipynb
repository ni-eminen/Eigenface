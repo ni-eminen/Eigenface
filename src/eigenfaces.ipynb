{
 "cells": [
  {
   "cell_type": "code",
   "execution_count": 231,
   "outputs": [],
   "source": [
    "import numpy as np\n",
    "from PIL import Image\n",
    "import glob\n",
    "from sklearn.datasets import fetch_olivetti_faces"
   ],
   "metadata": {
    "collapsed": false
   }
  },
  {
   "cell_type": "code",
   "execution_count": 232,
   "outputs": [
    {
     "name": "stdout",
     "output_type": "stream",
     "text": [
      "[ 0  0  0  0  0  0  0  0  0  0  1  1  1  1  1  1  1  1  1  1  2  2  2  2\n",
      "  2  2  2  2  2  2  3  3  3  3  3  3  3  3  3  3  4  4  4  4  4  4  4  4\n",
      "  4  4  5  5  5  5  5  5  5  5  5  5  6  6  6  6  6  6  6  6  6  6  7  7\n",
      "  7  7  7  7  7  7  7  7  8  8  8  8  8  8  8  8  8  8  9  9  9  9  9  9\n",
      "  9  9  9  9 10 10 10 10 10 10 10 10 10 10 11 11 11 11 11 11 11 11 11 11\n",
      " 12 12 12 12 12 12 12 12 12 12 13 13 13 13 13 13 13 13 13 13 14 14 14 14\n",
      " 14 14 14 14 14 14 15 15 15 15 15 15 15 15 15 15 16 16 16 16 16 16 16 16\n",
      " 16 16 17 17 17 17 17 17 17 17 17 17 18 18 18 18 18 18 18 18 18 18 19 19\n",
      " 19 19 19 19 19 19 19 19 20 20 20 20 20 20 20 20 20 20 21 21 21 21 21 21\n",
      " 21 21 21 21 22 22 22 22 22 22 22 22 22 22 23 23 23 23 23 23 23 23 23 23\n",
      " 24 24 24 24 24 24 24 24 24 24 25 25 25 25 25 25 25 25 25 25 26 26 26 26\n",
      " 26 26 26 26 26 26 27 27 27 27 27 27 27 27 27 27 28 28 28 28 28 28 28 28\n",
      " 28 28 29 29 29 29 29 29 29 29 29 29 30 30 30 30 30 30 30 30 30 30 31 31\n",
      " 31 31 31 31 31 31 31 31 32 32 32 32 32 32 32 32 32 32 33 33 33 33 33 33\n",
      " 33 33 33 33 34 34 34 34 34 34 34 34 34 34 35 35 35 35 35 35 35 35 35 35\n",
      " 36 36 36 36 36 36 36 36 36 36 37 37 37 37 37 37 37 37 37 37 38 38 38 38\n",
      " 38 38 38 38 38 38 39 39 39 39 39 39 39 39 39 39]\n",
      "Original x shape: (400, 64, 64)\n",
      "(200, 4096)\n"
     ]
    }
   ],
   "source": [
    "# Define constants\n",
    "IMG_SHAPE = (64, 64)\n",
    "# Download Olivetti faces dataset\n",
    "olivetti = fetch_olivetti_faces()\n",
    "x = olivetti.images\n",
    "y = olivetti.target\n",
    "print(y)\n",
    "\n",
    "# Print info on shapes and reshape where necessary\n",
    "print(\"Original x shape:\", x.shape)\n",
    "X = x.reshape((400, 4096))\n",
    "X_test = X[:200]\n",
    "print(X_test.shape)\n",
    "Y_test = X[201:300]\n"
   ],
   "metadata": {
    "collapsed": false
   }
  },
  {
   "cell_type": "code",
   "execution_count": 233,
   "metadata": {
    "collapsed": true
   },
   "outputs": [],
   "source": [
    "def crop_image(img):\n",
    "    width, height = img.size\n",
    "\n",
    "    new_width = IMG_SHAPE[0]\n",
    "    new_height = IMG_SHAPE[1]\n",
    "    left = (width - new_width)/2 - .5\n",
    "    top = (height - new_height)/2 - .5\n",
    "    right = (width + new_width)/2 - .5\n",
    "    bottom = (height + new_height)/2 - .5\n",
    "\n",
    "    # Crop the center of the image\n",
    "    im = img.crop((left, top, right, bottom))\n",
    "\n",
    "    return im\n",
    "\n",
    "def img_to_vector(path_to_img):\n",
    "    # Load the image\n",
    "    img = Image.open(path_to_img).convert('L')\n",
    "    img = crop_image(img)\n",
    "\n",
    "    # Convert the image into n²*1 array\n",
    "    arr = np.array(img)\n",
    "    flat_array = arr.ravel()\n",
    "\n",
    "    return flat_array\n",
    "\n",
    "\n",
    "def vector_to_img(vector, shape = IMG_SHAPE):\n",
    "    array = vector.reshape(shape)\n",
    "    img = Image.fromarray(array)\n",
    "    return img\n",
    "\n",
    "def sum_of_vectors(arr: []):\n",
    "    sum_vector = np.zeros(len(arr[0]))\n",
    "    for i in range(0, len(arr[0])):\n",
    "        for v in arr:\n",
    "            sum_vector[i] += v[i]\n",
    "\n",
    "    return sum_vector\n",
    "\n",
    "\n",
    "def scalar_multiply_vector(scalar, v):\n",
    "    arr = np.array([])\n",
    "    for x in v:\n",
    "        arr = np.append(arr, x * scalar)\n",
    "    return arr\n",
    "\n",
    "\n",
    "def negative_vector(v):\n",
    "    new_v = []\n",
    "    for x in v:\n",
    "        new_v.append(-x)\n",
    "    return np.array(new_v)"
   ]
  },
  {
   "cell_type": "code",
   "execution_count": 234,
   "outputs": [],
   "source": [
    "all_imgs = []\n",
    "training_set_photo_names = []\n",
    "\n",
    "# Get images from dataset and convert them to vectors\n",
    "#for folder in glob.iglob('../dataset/*'):\n",
    "#    for img in glob.iglob(folder + '/*'):\n",
    "#        training_set_photo_names.append(img[img.rfind('/')+1:len(img)])\n",
    "#        all_imgs.append(img_to_vector(img))\n",
    "\n",
    "\n",
    "# Create an np.array from the vectors\n",
    "training_set = X#np.array(all_imgs)"
   ],
   "metadata": {
    "collapsed": false
   }
  },
  {
   "cell_type": "code",
   "execution_count": 235,
   "outputs": [],
   "source": [
    "# Average face using numpy\n",
    "avg_face = training_set.mean(axis=0)"
   ],
   "metadata": {
    "collapsed": false
   }
  },
  {
   "cell_type": "code",
   "execution_count": 236,
   "outputs": [],
   "source": [
    "# Let's create the matrix A by subtracting the average face from each face in the training set\n",
    "A = []\n",
    "neg_avg_face = negative_vector(avg_face)\n",
    "sub = None\n",
    "for v in training_set:\n",
    "    sub = np.subtract(v, avg_face)\n",
    "    A.append(sub)\n",
    "\n",
    "# Convert A to a matrix\n",
    "A_m = np.asmatrix(A)\n",
    "\n",
    "A_t = np.array(A).transpose()"
   ],
   "metadata": {
    "collapsed": false
   }
  },
  {
   "cell_type": "code",
   "execution_count": 237,
   "outputs": [],
   "source": [
    "# Form the covariance matrix\n",
    "cov_matrix = np.cov(np.array(A))"
   ],
   "metadata": {
    "collapsed": false
   }
  },
  {
   "cell_type": "code",
   "execution_count": 238,
   "outputs": [],
   "source": [
    "# Calculate the eigenvectors of the covariance matrix\n",
    "eigenvalues, eigenvectors = np.linalg.eig(cov_matrix)\n",
    "eig_pairs = [(eigenvalues[index], eigenvectors[:,index]) for index in range(len(eigenvalues))]\n",
    "\n",
    "eig_pairs.sort(reverse=True)\n",
    "eigvalues_sort  = [eig_pairs[index][0] for index in range(len(eigenvalues))]\n",
    "eigvectors_sort = [eig_pairs[index][1] for index in range(len(eigenvalues))]"
   ],
   "metadata": {
    "collapsed": false
   }
  },
  {
   "cell_type": "code",
   "execution_count": 239,
   "outputs": [],
   "source": [
    "# Choose the 10 eigenvectors with the highest eigenvalues as the eigenfaces\n",
    "eigenfaces = np.array(eigvectors_sort[:20]).transpose()"
   ],
   "metadata": {
    "collapsed": false
   }
  },
  {
   "cell_type": "code",
   "execution_count": 240,
   "outputs": [],
   "source": [
    "# Calculate eiganfaces\n",
    "# Create reduced eigenface space\n",
    "proj_data = np.dot(training_set.transpose(), eigenfaces)\n",
    "proj_data = proj_data.transpose()\n",
    "# Calculate weights for eigenfaces\n",
    "w = np.array([np.dot(proj_data,i) for i in np.array(A)])"
   ],
   "metadata": {
    "collapsed": false
   }
  },
  {
   "cell_type": "code",
   "execution_count": 241,
   "outputs": [
    {
     "name": "stdout",
     "output_type": "stream",
     "text": [
      "211\n"
     ]
    }
   ],
   "source": [
    "# Get images from dataset and convert them to vectors\n",
    "unknown_face_vector        = Y_test[10]#img_to_vector('../test/Hugo_Chavez_0029.jpg')\n",
    "normalized_u = np.subtract(unknown_face_vector, avg_face)\n",
    "w_unknown = np.dot(proj_data, normalized_u)\n",
    "difference_vector = w - w_unknown\n",
    "norms = np.linalg.norm(difference_vector, axis=1)\n",
    "index = np.argmin(norms)\n",
    "print(index)\n",
    "#training_set_photo_names[index]"
   ],
   "metadata": {
    "collapsed": false
   }
  },
  {
   "cell_type": "code",
   "execution_count": 241,
   "outputs": [],
   "source": [],
   "metadata": {
    "collapsed": false
   }
  }
 ],
 "metadata": {
  "kernelspec": {
   "display_name": "Python 3",
   "language": "python",
   "name": "python3"
  },
  "language_info": {
   "codemirror_mode": {
    "name": "ipython",
    "version": 2
   },
   "file_extension": ".py",
   "mimetype": "text/x-python",
   "name": "python",
   "nbconvert_exporter": "python",
   "pygments_lexer": "ipython2",
   "version": "2.7.6"
  }
 },
 "nbformat": 4,
 "nbformat_minor": 0
}
