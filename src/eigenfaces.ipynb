{
 "cells": [
  {
   "cell_type": "markdown",
   "source": [
    "### Let's import numpy, PIL and some sklearn modules for the popular olivetti dataset and splitting training data."
   ],
   "metadata": {
    "collapsed": false
   }
  },
  {
   "cell_type": "code",
   "execution_count": 156,
   "outputs": [
    {
     "name": "stdout",
     "output_type": "stream",
     "text": [
      "The autoreload extension is already loaded. To reload it, use:\n",
      "  %reload_ext autoreload\n"
     ]
    }
   ],
   "source": [
    "import numpy as np\n",
    "from PIL import Image\n",
    "from sklearn.datasets import fetch_olivetti_faces\n",
    "from sklearn.model_selection import train_test_split\n",
    "from helpers import EigenfaceHelpers, negative_vector\n",
    "%load_ext autoreload"
   ],
   "metadata": {
    "collapsed": false
   }
  },
  {
   "cell_type": "markdown",
   "source": [
    "### Define constants."
   ],
   "metadata": {
    "collapsed": false
   }
  },
  {
   "cell_type": "code",
   "execution_count": 157,
   "outputs": [],
   "source": [
    "# Define constants\n",
    "IMG_SHAPE = (64, 64)"
   ],
   "metadata": {
    "collapsed": false
   }
  },
  {
   "cell_type": "markdown",
   "source": [
    "### Download the dataset, reshape the images into vectors and split it into pieces for training.\n",
    "- We fetch the olivetti dataset via sklearn\n",
    "- Olivetti.images is a collection of vectors, raveled 64x64 sized images\n",
    "- olivetti.target contains the id's of the people in the X array in the corresponding indices\n",
    "- We give the indices to the train_test_split to track which person is in which index after the function shuffles them, this will later be used to determine whether the algorithm predicted the correct person"
   ],
   "metadata": {
    "collapsed": false
   }
  },
  {
   "cell_type": "code",
   "execution_count": 158,
   "outputs": [],
   "source": [
    "# Download Olivetti faces dataset\n",
    "olivetti = fetch_olivetti_faces()\n",
    "X = olivetti.images\n",
    "y = olivetti.target\n",
    "\n",
    "# Print info on shapes and reshape where necessary\n",
    "X = X.reshape((400, 4096))\n",
    "indices = np.arange(len(X))\n",
    "Xtrain, Xtest, ytrain, ytest, idx_train, idx_test = train_test_split(X, y, indices)"
   ],
   "metadata": {
    "collapsed": false
   }
  },
  {
   "cell_type": "markdown",
   "source": [
    "### Construct the average face from the training set.\n",
    "- Add all training vectors together and divide the sum by the number of images."
   ],
   "metadata": {
    "collapsed": false
   }
  },
  {
   "cell_type": "code",
   "execution_count": 159,
   "outputs": [],
   "source": [
    "training_set = Xtrain\n",
    "# Average face using numpy\n",
    "avg_face = training_set.mean(axis=0)"
   ],
   "metadata": {
    "collapsed": false
   }
  },
  {
   "cell_type": "markdown",
   "source": [
    "### Derive normalized faces\n",
    "- Subtract the average face from each of the faces in the training set"
   ],
   "metadata": {
    "collapsed": false
   }
  },
  {
   "cell_type": "code",
   "execution_count": 160,
   "outputs": [],
   "source": [
    "# Let's create the matrix A by subtracting the average face from each face in the training set\n",
    "normalized_faces = []\n",
    "neg_avg_face = negative_vector(avg_face)\n",
    "sub = None\n",
    "for v in training_set:\n",
    "    sub = np.subtract(v, avg_face)\n",
    "    normalized_faces.append(sub)\n",
    "\n",
    "# Convert normalized faces array to a matrix\n",
    "normalized_faces_matrix = np.asmatrix(normalized_faces)"
   ],
   "metadata": {
    "collapsed": false
   }
  },
  {
   "cell_type": "markdown",
   "source": [
    "### Form the covariance matrix\n",
    "- Transpose the matrix of normalized faces\n",
    "- Multiply the normalized faces matrix with its transposition"
   ],
   "metadata": {
    "collapsed": false
   }
  },
  {
   "cell_type": "code",
   "execution_count": 161,
   "outputs": [],
   "source": [
    "# Form the covariance matrix\n",
    "normalized_faces_t = np.array(normalized_faces).transpose()\n",
    "\n",
    "# cov_matrix = (normalized_faces_matrix)(normalized_faces_t)\n",
    "cov_matrix = np.cov(np.array(normalized_faces))"
   ],
   "metadata": {
    "collapsed": false
   }
  },
  {
   "cell_type": "markdown",
   "source": [
    "### Calculate the eigenvalues and eigenvectors for the coavariance matrix\n",
    "- In order to determine the strongest eigenfaces, we select the eigenvectors with the highest corresponding eigenvalues\n",
    "- Pair the eigenvalues/eigenvectors\n",
    "- Sort the pairs based on the highest eigenvalues"
   ],
   "metadata": {
    "collapsed": false
   }
  },
  {
   "cell_type": "code",
   "execution_count": 162,
   "outputs": [],
   "source": [
    "# Calculate the eigenvectors of the covariance matrix\n",
    "eigenvalues, eigenvectors = np.linalg.eig(cov_matrix)\n",
    "eig_pairs = [(eigenvalues[index], eigenvectors[:, index]) for index in range(len(eigenvalues))]\n",
    "\n",
    "eig_pairs.sort(reverse=True)\n",
    "eigvalues_sort = [eig_pairs[index][0] for index in range(len(eigenvalues))]\n",
    "eigvectors_sort = [eig_pairs[index][1] for index in range(len(eigenvalues))]"
   ],
   "metadata": {
    "collapsed": false
   }
  },
  {
   "cell_type": "markdown",
   "source": [
    "### Select the 20 best eigenvectors"
   ],
   "metadata": {
    "collapsed": false
   }
  },
  {
   "cell_type": "code",
   "execution_count": 163,
   "outputs": [],
   "source": [
    "# Choose the 10 eigenvectors with the highest eigenvalues as the eigenfaces\n",
    "eigenfaces = np.array(eigvectors_sort[:20]).transpose()"
   ],
   "metadata": {
    "collapsed": false
   }
  },
  {
   "cell_type": "markdown",
   "source": [
    "### Create reduced eigenface space and calculate the weights for the projected vectors\n",
    "- Project the eigenfaces to the training_sets transposition by performing a dot product between the two\n",
    "- A weight is calculated by performing a dot product between each normalized face and the projections"
   ],
   "metadata": {
    "collapsed": false
   }
  },
  {
   "cell_type": "code",
   "execution_count": 164,
   "outputs": [],
   "source": [
    "proj_data = np.dot(training_set.transpose(), eigenfaces)\n",
    "proj_data = proj_data.transpose()\n",
    "\n",
    "# Calculate weights for eigenfaces\n",
    "w = np.array([np.dot(proj_data, i) for i in np.array(normalized_faces)])"
   ],
   "metadata": {
    "collapsed": false
   }
  },
  {
   "cell_type": "markdown",
   "source": [
    "### Calculate distance between the weights of each eigenface and the test image\n",
    "- Create the normalized unknown face\n",
    "- Calculate the weights of the normalized unknown weights in respect to the projections\n",
    "- Create the difference vector, which is the weights of the eigenfaces subracted from the weights of the test image\n",
    "- Find the index of the lowest difference"
   ],
   "metadata": {
    "collapsed": false
   }
  },
  {
   "cell_type": "code",
   "execution_count": 165,
   "outputs": [
    {
     "name": "stdout",
     "output_type": "stream",
     "text": [
      "The autoreload extension is already loaded. To reload it, use:\n",
      "  %reload_ext autoreload\n",
      "Counter({13: 4, 24: 2, 12: 1, 18: 1, 22: 1, 27: 1})\n",
      "Counter({10: 3, 7: 2, 18: 2, 3: 1, 9: 1, 22: 1})\n",
      "Counter({5: 5, 0: 2, 6: 1, 17: 1, 22: 1})\n",
      "Counter({12: 3, 39: 2, 24: 1, 8: 1, 22: 1, 20: 1, 19: 1})\n",
      "Counter({18: 2, 25: 2, 36: 2, 13: 1, 16: 1, 37: 1, 4: 1})\n",
      "Counter({1: 6, 3: 2, 24: 1, 13: 1})\n",
      "Counter({39: 2, 12: 2, 24: 1, 4: 1, 14: 1, 8: 1, 22: 1, 16: 1})\n",
      "Counter({1: 6, 14: 2, 3: 1, 24: 1})\n",
      "Counter({10: 6, 31: 2, 26: 1, 18: 1})\n",
      "Counter({4: 3, 8: 2, 39: 2, 22: 2, 12: 1})\n",
      "Counter({36: 4, 30: 4, 37: 1, 28: 1})\n",
      "Counter({17: 3, 15: 3, 0: 1, 3: 1, 6: 1, 9: 1})\n",
      "Counter({18: 4, 10: 3, 31: 3})\n",
      "Counter({25: 3, 9: 1, 13: 1, 16: 1, 29: 1, 24: 1, 2: 1, 4: 1})\n",
      "Counter({25: 3, 27: 2, 22: 1, 37: 1, 2: 1, 13: 1, 16: 1})\n",
      "Counter({29: 5, 34: 2, 30: 1, 20: 1, 38: 1})\n",
      "Counter({26: 4, 24: 2, 3: 2, 27: 1, 10: 1})\n",
      "Counter({25: 3, 11: 2, 13: 1, 22: 1, 37: 1, 18: 1, 24: 1})\n",
      "Counter({17: 2, 39: 2, 6: 1, 22: 1, 0: 1, 35: 1, 4: 1, 11: 1})\n",
      "Counter({26: 8, 18: 1, 13: 1})\n",
      "Counter({29: 4, 30: 3, 19: 2, 33: 1})\n",
      "Counter({6: 2, 17: 2, 0: 2, 22: 1, 15: 1, 35: 1, 5: 1})\n",
      "Counter({31: 5, 18: 4, 10: 1})\n",
      "Counter({17: 4, 3: 2, 5: 1, 2: 1, 15: 1, 25: 1})\n",
      "Counter({12: 3, 19: 2, 17: 1, 3: 1, 4: 1, 24: 1, 22: 1})\n",
      "Counter({7: 3, 17: 3, 0: 2, 9: 1, 6: 1})\n",
      "Counter({37: 5, 39: 3, 4: 1, 22: 1})\n",
      "Counter({18: 4, 7: 2, 10: 2, 17: 1, 31: 1})\n",
      "Counter({25: 2, 4: 2, 29: 1, 24: 1, 23: 1, 19: 1, 3: 1, 2: 1})\n",
      "Counter({12: 3, 16: 2, 27: 1, 24: 1, 22: 1, 3: 1, 35: 1})\n",
      "Counter({23: 4, 15: 2, 14: 2, 1: 2})\n",
      "Counter({4: 2, 37: 2, 24: 1, 12: 1, 8: 1, 2: 1, 16: 1, 22: 1})\n",
      "Counter({24: 3, 3: 2, 17: 1, 5: 1, 22: 1, 12: 1, 18: 1})\n",
      "Counter({20: 2, 29: 2, 37: 2, 4: 1, 39: 1, 34: 1, 14: 1})\n",
      "Counter({1: 5, 14: 4, 24: 1})\n",
      "Counter({30: 3, 29: 3, 19: 2, 23: 1, 34: 1})\n",
      "Counter({8: 2, 4: 2, 22: 2, 39: 1, 37: 1, 24: 1, 14: 1})\n",
      "Counter({26: 3, 13: 2, 24: 2, 25: 1, 4: 1, 16: 1})\n",
      "Counter({14: 4, 20: 2, 3: 2, 19: 1, 4: 1})\n",
      "Counter({1: 4, 14: 4, 24: 1, 15: 1})\n",
      "Counter({17: 3, 3: 2, 37: 1, 5: 1, 22: 1, 12: 1, 2: 1})\n",
      "Counter({4: 2, 25: 2, 34: 1, 2: 1, 16: 1, 29: 1, 13: 1, 24: 1})\n",
      "Counter({21: 7, 38: 3})\n",
      "Counter({4: 2, 3: 1, 25: 1, 24: 1, 2: 1, 13: 1, 29: 1, 16: 1, 34: 1})\n",
      "Counter({20: 3, 4: 2, 29: 1, 37: 1, 39: 1, 34: 1, 14: 1})\n",
      "Counter({6: 5, 15: 3, 35: 1, 5: 1})\n",
      "Counter({29: 5, 20: 2, 34: 2, 30: 1})\n",
      "Counter({6: 6, 35: 2, 15: 1, 3: 1})\n",
      "Counter({20: 5, 28: 3, 2: 1, 29: 1})\n",
      "Counter({21: 7, 38: 3})\n",
      "Counter({16: 3, 8: 2, 2: 1, 25: 1, 11: 1, 12: 1, 22: 1})\n",
      "Counter({5: 5, 0: 2, 17: 1, 9: 1, 6: 1})\n",
      "Counter({32: 4, 29: 3, 34: 2, 20: 1})\n",
      "Counter({24: 3, 13: 2, 25: 1, 4: 1, 16: 1, 22: 1, 26: 1})\n",
      "Counter({17: 3, 19: 2, 12: 2, 3: 1, 39: 1, 15: 1})\n",
      "Counter({13: 3, 26: 3, 24: 2, 25: 1, 16: 1})\n",
      "Counter({24: 4, 3: 2, 26: 2, 27: 1, 13: 1})\n",
      "Counter({21: 6, 38: 4})\n",
      "Counter({20: 4, 14: 2, 4: 2, 19: 1, 29: 1})\n",
      "Counter({37: 3, 4: 2, 2: 1, 8: 1, 39: 1, 16: 1, 22: 1})\n",
      "Counter({18: 4, 10: 3, 31: 3})\n",
      "Counter({39: 2, 8: 2, 12: 2, 4: 2, 16: 1, 22: 1})\n",
      "Counter({25: 2, 8: 2, 11: 2, 22: 1, 37: 1, 39: 1, 20: 1})\n",
      "Counter({11: 3, 17: 2, 2: 2, 3: 1, 9: 1, 39: 1})\n",
      "Counter({21: 7, 38: 3})\n",
      "Counter({38: 5, 28: 2, 32: 1, 20: 1, 21: 1})\n",
      "Counter({24: 3, 12: 1, 8: 1, 9: 1, 3: 1, 14: 1, 2: 1, 13: 1})\n",
      "Counter({38: 4, 32: 3, 21: 3})\n",
      "Counter({17: 5, 22: 1, 0: 1, 3: 1, 11: 1, 39: 1})\n",
      "Counter({8: 2, 39: 2, 22: 1, 24: 1, 12: 1, 2: 1, 37: 1, 20: 1})\n",
      "Counter({25: 3, 36: 3, 38: 2, 20: 1, 30: 1})\n",
      "Counter({18: 2, 1: 2, 31: 2, 22: 1, 3: 1, 5: 1, 10: 1})\n",
      "Counter({29: 4, 19: 2, 30: 2, 23: 1, 3: 1})\n",
      "Counter({25: 3, 13: 2, 16: 1, 37: 1, 2: 1, 4: 1, 27: 1})\n",
      "Counter({15: 4, 0: 2, 6: 2, 35: 1, 3: 1})\n",
      "Counter({24: 3, 2: 2, 3: 2, 22: 1, 37: 1, 17: 1})\n",
      "Counter({31: 4, 26: 4, 18: 2})\n",
      "Counter({24: 2, 39: 2, 25: 2, 22: 2, 11: 1, 4: 1})\n",
      "Counter({24: 2, 11: 2, 37: 2, 9: 2, 2: 1, 25: 1})\n",
      "Counter({9: 3, 2: 2, 37: 2, 13: 1, 11: 1, 0: 1})\n",
      "Counter({39: 2, 37: 2, 4: 1, 19: 1, 17: 1, 16: 1, 2: 1, 22: 1})\n",
      "Counter({38: 5, 28: 2, 21: 2, 32: 1})\n",
      "Counter({4: 2, 17: 2, 22: 1, 39: 1, 11: 1, 3: 1, 6: 1, 0: 1})\n",
      "Counter({16: 4, 39: 2, 9: 1, 0: 1, 34: 1, 3: 1})\n",
      "Counter({10: 5, 18: 4, 31: 1})\n",
      "Counter({39: 3, 8: 2, 4: 2, 29: 2, 2: 1})\n",
      "Counter({4: 3, 20: 2, 3: 2, 24: 1, 12: 1, 14: 1})\n",
      "Counter({14: 5, 12: 1, 3: 1, 24: 1, 19: 1, 20: 1})\n",
      "Counter({38: 3, 28: 2, 32: 2, 21: 2, 20: 1})\n",
      "Counter({36: 4, 25: 3, 30: 1, 38: 1, 8: 1})\n",
      "Counter({18: 4, 13: 2, 26: 2, 6: 1, 24: 1})\n",
      "Counter({12: 2, 4: 2, 34: 2, 9: 1, 16: 1, 2: 1, 20: 1})\n",
      "Counter({7: 2, 9: 1, 25: 1, 1: 1, 24: 1, 13: 1, 29: 1, 26: 1, 23: 1})\n",
      "Counter({17: 3, 3: 2, 24: 2, 5: 1, 12: 1, 22: 1})\n",
      "Counter({26: 5, 13: 4, 24: 1})\n",
      "Counter({20: 4, 28: 2, 30: 2, 34: 1, 2: 1})\n",
      "Counter({7: 2, 13: 2, 26: 2, 37: 1, 24: 1, 9: 1, 3: 1})\n",
      "Counter({33: 4, 30: 3, 19: 2, 29: 1})\n",
      "Counter({8: 2, 39: 2, 20: 2, 11: 1, 12: 1, 24: 1, 30: 1})\n",
      "Counter({1: 6, 14: 1, 3: 1, 24: 1, 12: 1})\n"
     ]
    }
   ],
   "source": [
    "%load_ext autoreload\n",
    "%autoreload 2\n",
    "from src.helpers import predictions\n",
    "\n",
    "correct_ids = []\n",
    "predicted_ids = []\n",
    "\n",
    "# Get images from dataset and convert them to vectors\n",
    "test_index = 20\n",
    "# Store the correct ids and the predicted ids in corresponding indices\n",
    "correct_ids_multi, predicted_ids_multi = predictions(Xtest, y, idx_train, idx_test, avg_face, proj_data, w, \"multi\", sample_size=10, threshold=5)\n",
    "\n",
    "correct_ids, predicted_ids = predictions(Xtest, y, idx_train, idx_test, avg_face, proj_data, w)"
   ],
   "metadata": {
    "collapsed": false
   }
  },
  {
   "cell_type": "markdown",
   "source": [
    "### Print results"
   ],
   "metadata": {
    "collapsed": false
   }
  },
  {
   "cell_type": "code",
   "execution_count": 166,
   "outputs": [
    {
     "name": "stdout",
     "output_type": "stream",
     "text": [
      "              precision    recall  f1-score   support\n",
      "\n",
      "           0       1.00      0.20      0.33         5\n",
      "           1       1.00      1.00      1.00         1\n",
      "           2       1.00      0.75      0.86         4\n",
      "           3       0.43      1.00      0.60         3\n",
      "           4       0.00      0.00      0.00         2\n",
      "           5       1.00      1.00      1.00         4\n",
      "           6       1.00      1.00      1.00         2\n",
      "           7       0.75      0.75      0.75         4\n",
      "           8       1.00      1.00      1.00         5\n",
      "           9       1.00      1.00      1.00         2\n",
      "          10       1.00      1.00      1.00         3\n",
      "          11       1.00      0.67      0.80         3\n",
      "          12       0.00      0.00      0.00         2\n",
      "          13       1.00      1.00      1.00         4\n",
      "          14       1.00      1.00      1.00         3\n",
      "          15       0.00      0.00      0.00         1\n",
      "          16       0.50      1.00      0.67         2\n",
      "          17       1.00      0.33      0.50         3\n",
      "          18       0.67      1.00      0.80         2\n",
      "          19       1.00      1.00      1.00         5\n",
      "          20       0.00      0.00      0.00         0\n",
      "          22       1.00      0.80      0.89         5\n",
      "          23       1.00      1.00      1.00         1\n",
      "          24       0.50      1.00      0.67         2\n",
      "          25       0.33      0.50      0.40         2\n",
      "          26       1.00      1.00      1.00         1\n",
      "          27       1.00      1.00      1.00         1\n",
      "          28       0.50      0.25      0.33         4\n",
      "          29       1.00      1.00      1.00         2\n",
      "          30       1.00      1.00      1.00         2\n",
      "          31       1.00      0.67      0.80         3\n",
      "          32       1.00      1.00      1.00         2\n",
      "          34       1.00      0.75      0.86         4\n",
      "          35       1.00      1.00      1.00         1\n",
      "          36       1.00      1.00      1.00         3\n",
      "          37       0.67      1.00      0.80         2\n",
      "          38       0.50      0.75      0.60         4\n",
      "          39       0.33      1.00      0.50         1\n",
      "\n",
      "    accuracy                           0.78       100\n",
      "   macro avg       0.77      0.77      0.74       100\n",
      "weighted avg       0.83      0.78      0.77       100\n",
      "\n",
      "              precision    recall  f1-score   support\n",
      "\n",
      "           0       0.00      0.00      0.00         5\n",
      "           1       0.25      1.00      0.40         1\n",
      "           2       0.00      0.00      0.00         4\n",
      "           3       0.00      0.00      0.00         3\n",
      "           4       0.00      0.00      0.00         2\n",
      "           5       1.00      0.50      0.67         4\n",
      "           6       0.50      0.50      0.50         2\n",
      "           7       0.00      0.00      0.00         4\n",
      "           8       0.00      0.00      0.00         5\n",
      "           9       0.00      0.00      0.00         2\n",
      "          10       1.00      0.67      0.80         3\n",
      "          11       0.00      0.00      0.00         3\n",
      "          12       0.00      0.00      0.00         2\n",
      "          13       0.00      0.00      0.00         4\n",
      "          14       1.00      0.33      0.50         3\n",
      "          15       0.00      0.00      0.00         1\n",
      "          16       0.03      1.00      0.05         2\n",
      "          17       1.00      0.33      0.50         3\n",
      "          18       0.00      0.00      0.00         2\n",
      "          19       0.00      0.00      0.00         5\n",
      "          20       0.00      0.00      0.00         0\n",
      "          21       0.00      0.00      0.00         0\n",
      "          22       0.00      0.00      0.00         5\n",
      "          23       0.00      0.00      0.00         1\n",
      "          24       0.00      0.00      0.00         2\n",
      "          25       0.00      0.00      0.00         2\n",
      "          26       0.50      1.00      0.67         1\n",
      "          27       0.00      0.00      0.00         1\n",
      "          28       0.00      0.00      0.00         4\n",
      "          29       0.50      0.50      0.50         2\n",
      "          30       0.00      0.00      0.00         2\n",
      "          31       1.00      0.33      0.50         3\n",
      "          32       0.00      0.00      0.00         2\n",
      "          34       0.00      0.00      0.00         4\n",
      "          35       0.00      0.00      0.00         1\n",
      "          36       0.00      0.00      0.00         3\n",
      "          37       1.00      0.50      0.67         2\n",
      "          38       0.00      0.00      0.00         4\n",
      "          39       0.00      0.00      0.00         1\n",
      "\n",
      "    accuracy                           0.14       100\n",
      "   macro avg       0.20      0.17      0.15       100\n",
      "weighted avg       0.21      0.14      0.14       100\n",
      "\n"
     ]
    }
   ],
   "source": [
    "from sklearn.metrics import classification_report\n",
    "print(classification_report(correct_ids, predicted_ids, zero_division=0))\n",
    "print(classification_report(correct_ids_multi, predicted_ids_multi, zero_division=0))"
   ],
   "metadata": {
    "collapsed": false
   }
  },
  {
   "cell_type": "code",
   "execution_count": 166,
   "outputs": [],
   "source": [],
   "metadata": {
    "collapsed": false
   }
  }
 ],
 "metadata": {
  "kernelspec": {
   "display_name": "Python 3",
   "language": "python",
   "name": "python3"
  },
  "language_info": {
   "codemirror_mode": {
    "name": "ipython",
    "version": 2
   },
   "file_extension": ".py",
   "mimetype": "text/x-python",
   "name": "python",
   "nbconvert_exporter": "python",
   "pygments_lexer": "ipython2",
   "version": "2.7.6"
  }
 },
 "nbformat": 4,
 "nbformat_minor": 0
}
