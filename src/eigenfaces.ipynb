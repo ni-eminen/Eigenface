{
 "cells": [
  {
   "cell_type": "code",
   "execution_count": 31,
   "metadata": {
    "collapsed": true
   },
   "outputs": [],
   "source": [
    "import numpy as np\n",
    "from PIL import Image\n",
    "import glob\n",
    "\n",
    "IMG_SHAPE = (250, 250)\n",
    "\n",
    "\n",
    "def img_to_vector(path_to_img):\n",
    "    # Load the image\n",
    "    img = Image.open(path_to_img).convert('L')\n",
    "\n",
    "    # Convert the image into n²*1 array\n",
    "    arr = np.array(img)\n",
    "    flat_array = arr.ravel()\n",
    "\n",
    "    return flat_array\n",
    "\n",
    "\n",
    "def vector_to_img(vector, shape):\n",
    "    array = vector.reshape(shape)\n",
    "    img = Image.fromarray(array)\n",
    "    return img\n",
    "\n",
    "\n",
    "def sum_of_vectors(arr: []):\n",
    "    sum_vector = np.zeros(len(arr[0]))\n",
    "    for i in range(0, len(arr[0])):\n",
    "        for v in arr:\n",
    "            sum_vector[i] += v[i]\n",
    "\n",
    "    return sum_vector\n",
    "\n",
    "\n",
    "def scalar_multiply_vector(scalar, v):\n",
    "    arr = np.array([])\n",
    "    for x in v:\n",
    "        arr = np.append(arr, x * scalar)\n",
    "    return arr\n",
    "\n",
    "\n",
    "def negative_vector(v):\n",
    "    new_v = []\n",
    "    for x in v:\n",
    "        new_v.append(-x)\n",
    "    return np.array(new_v)"
   ]
  },
  {
   "cell_type": "code",
   "execution_count": 32,
   "outputs": [],
   "source": [
    "all_imgs = []\n",
    "\n",
    "# Get images from dataset and convert them to vectors\n",
    "for folder in glob.iglob('../dataset/*'):\n",
    "    for img in glob.iglob(folder + '/*'):\n",
    "        all_imgs.append(img_to_vector(img))\n",
    "\n",
    "# Create an np.array from the vectors\n",
    "training_set = np.array(np.array(all_imgs))\n"
   ],
   "metadata": {
    "collapsed": false
   }
  },
  {
   "cell_type": "code",
   "execution_count": 33,
   "outputs": [],
   "source": [
    "# Average face using numpy\n",
    "avg_face = training_set.mean(axis=0)"
   ],
   "metadata": {
    "collapsed": false
   }
  },
  {
   "cell_type": "code",
   "execution_count": 34,
   "outputs": [],
   "source": [
    "# Let's create the matrix A by subtracting the average face from each face in the training set\n",
    "A = []\n",
    "neg_avg_face = negative_vector(avg_face)\n",
    "for v in training_set:\n",
    "    A.append(sum_of_vectors([v, neg_avg_face]))\n",
    "\n",
    "vector_to_img(A[0], shape=IMG_SHAPE).show()\n",
    "\n",
    "# Convert A to a matrix\n",
    "A_m = np.asmatrix(A)\n",
    "\n",
    "A_t = A_m.transpose()\n"
   ],
   "metadata": {
    "collapsed": false
   }
  },
  {
   "cell_type": "code",
   "execution_count": 35,
   "outputs": [],
   "source": [
    "# Form the covariance matrix\n",
    "cov_matrix = np.matmul(A_m, A_t)"
   ],
   "metadata": {
    "collapsed": false
   }
  },
  {
   "cell_type": "code",
   "execution_count": 66,
   "outputs": [],
   "source": [
    "# Calculate the eigenvectors of the covariance matrix\n",
    "eigenvalues, eigenvectors = np.linalg.eig(cov_matrix)\n",
    "eig_pairs = [(eigenvalues[index], eigenvectors[:,index]) for index in range(len(eigenvalues))]\n",
    "\n",
    "eig_pairs.sort(reverse=True)\n",
    "eigvalues_sort  = [eig_pairs[index][0] for index in range(len(eigenvalues))]\n",
    "eigvectors_sort = [eig_pairs[index][1] for index in range(len(eigenvalues))]"
   ],
   "metadata": {
    "collapsed": false
   }
  },
  {
   "cell_type": "code",
   "execution_count": 67,
   "outputs": [],
   "source": [
    "# Choose the 10 eigenvectors with the highest eigenvalues as the eigenfaces\n",
    "eigenfaces = np.array(eigvectors_sort[:7]).transpose()"
   ],
   "metadata": {
    "collapsed": false
   }
  },
  {
   "cell_type": "code",
   "execution_count": 68,
   "outputs": [],
   "source": [
    "# Calculate eiganfaces\n",
    "# Create reduced eigenface space\n",
    "proj_data = np.dot(training_set.transpose(), eigenfaces)\n",
    "proj_data = proj_data.transpose()"
   ],
   "metadata": {
    "collapsed": false
   }
  },
  {
   "cell_type": "code",
   "execution_count": 47,
   "outputs": [],
   "source": [
    "# calculate eigenface of image in question\n",
    "test_image: np.ndarray = img_to_vector('../dataset/test/George_W_Bush_0001.jpg')\n",
    "mean_test_image = sum_of_vectors([test_image, neg_avg_face])\n",
    "vector_to_img(mean_test_image, shape=IMG_SHAPE).show()"
   ],
   "metadata": {
    "collapsed": false
   }
  },
  {
   "cell_type": "code",
   "execution_count": 52,
   "outputs": [
    {
     "ename": "ValueError",
     "evalue": "maximum supported dimension for an ndarray is 32, found 225",
     "output_type": "error",
     "traceback": [
      "\u001B[0;31m---------------------------------------------------------------------------\u001B[0m",
      "\u001B[0;31mValueError\u001B[0m                                Traceback (most recent call last)",
      "Cell \u001B[0;32mIn [52], line 1\u001B[0m\n\u001B[0;32m----> 1\u001B[0m \u001B[38;5;28mprint\u001B[39m(\u001B[43mnp\u001B[49m\u001B[38;5;241;43m.\u001B[39;49m\u001B[43mndarray\u001B[49m\u001B[43m(\u001B[49m\u001B[43meigenfaces_sorted\u001B[49m\u001B[43m)\u001B[49m\u001B[38;5;241m.\u001B[39mshape)\n\u001B[1;32m      2\u001B[0m \u001B[38;5;66;03m# Project the eigfaces to eigspace\u001B[39;00m\n\u001B[1;32m      3\u001B[0m proj_data \u001B[38;5;241m=\u001B[39m np\u001B[38;5;241m.\u001B[39mdot(training_set\u001B[38;5;241m.\u001B[39mtranspose(), np\u001B[38;5;241m.\u001B[39masmatrix(eigenfaces_sorted[:\u001B[38;5;241m7\u001B[39m])\u001B[38;5;241m.\u001B[39mtranspose())\n",
      "\u001B[0;31mValueError\u001B[0m: maximum supported dimension for an ndarray is 32, found 225"
     ]
    }
   ],
   "source": [
    "# Project the eigfaces to eigspace\n",
    "proj_data = np.dot(training_set.transpose(), np.asmatrix(eigenfaces_sorted[:7]).transpose())\n",
    "proj_data = proj_data.transpose()\n",
    "\n",
    "#for x in proj_data:\n",
    "#    vector_to_img(x, shape=IMG_SHAPE).show()"
   ],
   "metadata": {
    "collapsed": false
   }
  },
  {
   "cell_type": "code",
   "execution_count": null,
   "outputs": [],
   "source": [],
   "metadata": {
    "collapsed": false
   }
  }
 ],
 "metadata": {
  "kernelspec": {
   "display_name": "Python 3",
   "language": "python",
   "name": "python3"
  },
  "language_info": {
   "codemirror_mode": {
    "name": "ipython",
    "version": 2
   },
   "file_extension": ".py",
   "mimetype": "text/x-python",
   "name": "python",
   "nbconvert_exporter": "python",
   "pygments_lexer": "ipython2",
   "version": "2.7.6"
  }
 },
 "nbformat": 4,
 "nbformat_minor": 0
}
