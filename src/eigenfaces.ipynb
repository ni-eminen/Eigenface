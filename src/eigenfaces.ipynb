{
 "cells": [
  {
   "cell_type": "code",
   "execution_count": 623,
   "outputs": [],
   "source": [
    "import numpy as np\n",
    "from PIL import Image\n",
    "import glob\n",
    "from sklearn.datasets import fetch_olivetti_faces\n",
    "from sklearn.model_selection import train_test_split"
   ],
   "metadata": {
    "collapsed": false
   }
  },
  {
   "cell_type": "code",
   "execution_count": 624,
   "outputs": [
    {
     "name": "stdout",
     "output_type": "stream",
     "text": [
      "[20  3 37 16 32 24 30 36  9  7 13 32 13 21 14 17 35 24  4 34  3 20  1 19\n",
      " 14 39 27 18 39  3 33 17 22  0  1 27  0 27  4  1 39  3 18 31 31 16  3 10\n",
      "  1 29  6 12 11  2 19 23 34 36 30 39 14 32 22  2 12 26 16 26 16 17 17 17\n",
      " 22 19 32  2  9 17 36 17 39 34 34  3  5 26 28 32 35 34 28 37 28 10 34 17\n",
      " 15 27 30 21 35 32 34 33 36 13 14 12 14 38  5 33 28 38 26  9  7 38 15 30\n",
      " 36  7 31  8 12 11 12 25 18 21 10  4 12 27  2  2 28 27 37 36 30  1 20 38\n",
      " 19 22 29  9 13 36 23  3 36 19 21  0 10 35  4 23 10 11 35 21  2  2 19 33\n",
      " 36 33 12 38 29  4 16 29 29 29  0  1 22 31 11 24 16 19 10  4  8 26 37  5\n",
      " 15 15  8  9 15 22 26 21 31 20 14 38 25  5 35  8  0 23 32  9  6 25 25 35\n",
      " 23  0 26 25  8  3 15 22  5 25  0  4 18 29  9  6 23 37 31  5 24  8  4 14\n",
      " 24 16  2 13 35 21 16  1 13 32 24 27  0  5 32 23  6 14 11 20  2 33  7  3\n",
      "  8 37 11 31  6 25 32  7  0 31 16 26 38 10 12 28 26  1 27 18 27 13  2 39\n",
      " 38 34 24 21 11 19 10 25 11  7  8 27]\n",
      "300 300\n"
     ]
    }
   ],
   "source": [
    "# Define constants\n",
    "IMG_SHAPE = (64, 64)\n",
    "# Download Olivetti faces dataset\n",
    "olivetti = fetch_olivetti_faces()\n",
    "X = olivetti.images\n",
    "y = olivetti.target\n",
    "# Print info on shapes and reshape where necessary\n",
    "X = X.reshape((400, 4096))\n",
    "indices = np.arange(len(X))\n",
    "Xtrain, Xtest, ytrain, ytest, idx_train, idx_test = train_test_split(X, y, indices)"
   ],
   "metadata": {
    "collapsed": false
   }
  },
  {
   "cell_type": "code",
   "execution_count": 625,
   "metadata": {
    "collapsed": true
   },
   "outputs": [],
   "source": [
    "def crop_image(img):\n",
    "    width, height = img.size\n",
    "\n",
    "    new_width = IMG_SHAPE[0]\n",
    "    new_height = IMG_SHAPE[1]\n",
    "    left = (width - new_width)/2 - .5\n",
    "    top = (height - new_height)/2 - .5\n",
    "    right = (width + new_width)/2 - .5\n",
    "    bottom = (height + new_height)/2 - .5\n",
    "\n",
    "    # Crop the center of the image\n",
    "    im = img.crop((left, top, right, bottom))\n",
    "\n",
    "    return im\n",
    "\n",
    "def img_to_vector(path_to_img):\n",
    "    # Load the image\n",
    "    img = Image.open(path_to_img).convert('L')\n",
    "    img = crop_image(img)\n",
    "\n",
    "    # Convert the image into n²*1 array\n",
    "    arr = np.array(img)\n",
    "    flat_array = arr.ravel()\n",
    "\n",
    "    return flat_array\n",
    "\n",
    "\n",
    "def vector_to_img(vector, shape = IMG_SHAPE):\n",
    "    array = vector.reshape(shape)\n",
    "    img = Image.fromarray(array)\n",
    "    return img\n",
    "\n",
    "def sum_of_vectors(arr: []):\n",
    "    sum_vector = np.zeros(len(arr[0]))\n",
    "    for i in range(0, len(arr[0])):\n",
    "        for v in arr:\n",
    "            sum_vector[i] += v[i]\n",
    "\n",
    "    return sum_vector\n",
    "\n",
    "\n",
    "def scalar_multiply_vector(scalar, v):\n",
    "    arr = np.array([])\n",
    "    for x in v:\n",
    "        arr = np.append(arr, x * scalar)\n",
    "    return arr\n",
    "\n",
    "\n",
    "def negative_vector(v):\n",
    "    new_v = []\n",
    "    for x in v:\n",
    "        new_v.append(-x)\n",
    "    return np.array(new_v)"
   ]
  },
  {
   "cell_type": "code",
   "execution_count": 626,
   "outputs": [],
   "source": [
    "all_imgs = []\n",
    "training_set_photo_names = []\n",
    "\n",
    "# Create an np.array from the vectors\n",
    "training_set = Xtrain"
   ],
   "metadata": {
    "collapsed": false
   }
  },
  {
   "cell_type": "code",
   "execution_count": 627,
   "outputs": [],
   "source": [
    "# Average face using numpy\n",
    "avg_face = training_set.mean(axis=0)"
   ],
   "metadata": {
    "collapsed": false
   }
  },
  {
   "cell_type": "code",
   "execution_count": 628,
   "outputs": [],
   "source": [
    "# Let's create the matrix A by subtracting the average face from each face in the training set\n",
    "A = []\n",
    "neg_avg_face = negative_vector(avg_face)\n",
    "sub = None\n",
    "for v in training_set:\n",
    "    sub = np.subtract(v, avg_face)\n",
    "    A.append(sub)\n",
    "\n",
    "# Convert A to a matrix\n",
    "A_m = np.asmatrix(A)\n",
    "\n",
    "A_t = np.array(A).transpose()"
   ],
   "metadata": {
    "collapsed": false
   }
  },
  {
   "cell_type": "code",
   "execution_count": 629,
   "outputs": [],
   "source": [
    "# Form the covariance matrix\n",
    "cov_matrix = np.cov(np.array(A))"
   ],
   "metadata": {
    "collapsed": false
   }
  },
  {
   "cell_type": "code",
   "execution_count": 630,
   "outputs": [],
   "source": [
    "# Calculate the eigenvectors of the covariance matrix\n",
    "eigenvalues, eigenvectors = np.linalg.eig(cov_matrix)\n",
    "eig_pairs = [(eigenvalues[index], eigenvectors[:,index]) for index in range(len(eigenvalues))]\n",
    "\n",
    "eig_pairs.sort(reverse=True)\n",
    "eigvalues_sort  = [eig_pairs[index][0] for index in range(len(eigenvalues))]\n",
    "eigvectors_sort = [eig_pairs[index][1] for index in range(len(eigenvalues))]"
   ],
   "metadata": {
    "collapsed": false
   }
  },
  {
   "cell_type": "code",
   "execution_count": 631,
   "outputs": [],
   "source": [
    "# Choose the 10 eigenvectors with the highest eigenvalues as the eigenfaces\n",
    "eigenfaces = np.array(eigvectors_sort[:20]).transpose()"
   ],
   "metadata": {
    "collapsed": false
   }
  },
  {
   "cell_type": "code",
   "execution_count": 632,
   "outputs": [],
   "source": [
    "# Calculate eiganfaces\n",
    "# Create reduced eigenface space\n",
    "proj_data = np.dot(training_set.transpose(), eigenfaces)\n",
    "proj_data = proj_data.transpose()\n",
    "# Calculate weights for eigenfaces\n",
    "w = np.array([np.dot(proj_data,i) for i in np.array(A)])"
   ],
   "metadata": {
    "collapsed": false
   }
  },
  {
   "cell_type": "code",
   "execution_count": 633,
   "outputs": [],
   "source": [
    "from sklearn.metrics import classification_report\n",
    "\n",
    "correct_ids = []\n",
    "predicted_ids = []\n",
    "\n",
    "# Get images from dataset and convert them to vectors\n",
    "test_index = 20\n",
    "for test_index in range(len(Xtest)):\n",
    "    unknown_face_vector = Xtest[test_index]\n",
    "    mean_unknown_face = np.subtract(unknown_face_vector, avg_face)\n",
    "    w_unknown = np.dot(proj_data, mean_unknown_face)\n",
    "    difference_vector = w - w_unknown\n",
    "    norms = np.linalg.norm(difference_vector, axis=1)\n",
    "    index = np.argmin(norms)\n",
    "\n",
    "    correct_ids.append(y[idx_test[test_index]])\n",
    "    predicted_ids.append(y[idx_train[index]])"
   ],
   "metadata": {
    "collapsed": false
   }
  },
  {
   "cell_type": "code",
   "execution_count": 634,
   "outputs": [
    {
     "name": "stdout",
     "output_type": "stream",
     "text": [
      "              precision    recall  f1-score   support\n",
      "\n",
      "           0       0.00      0.00      0.00         1\n",
      "           1       1.00      1.00      1.00         2\n",
      "           2       0.00      0.00      0.00         0\n",
      "           3       0.00      0.00      0.00         1\n",
      "           4       1.00      1.00      1.00         2\n",
      "           5       1.00      1.00      1.00         3\n",
      "           6       0.60      0.60      0.60         5\n",
      "           7       1.00      0.50      0.67         4\n",
      "           8       1.00      1.00      1.00         2\n",
      "           9       1.00      0.33      0.50         3\n",
      "          10       1.00      1.00      1.00         2\n",
      "          11       1.00      1.00      1.00         2\n",
      "          12       0.33      0.50      0.40         2\n",
      "          13       1.00      1.00      1.00         3\n",
      "          14       1.00      1.00      1.00         2\n",
      "          15       0.50      0.50      0.50         4\n",
      "          16       0.50      1.00      0.67         1\n",
      "          17       1.00      0.50      0.67         2\n",
      "          18       0.83      1.00      0.91         5\n",
      "          19       1.00      1.00      1.00         2\n",
      "          20       1.00      0.60      0.75         5\n",
      "          21       0.40      1.00      0.57         2\n",
      "          22       1.00      1.00      1.00         3\n",
      "          23       1.00      1.00      1.00         3\n",
      "          24       0.50      0.67      0.57         3\n",
      "          25       0.50      0.50      0.50         2\n",
      "          26       1.00      1.00      1.00         1\n",
      "          28       1.00      0.75      0.86         4\n",
      "          29       1.00      1.00      1.00         3\n",
      "          30       0.83      1.00      0.91         5\n",
      "          31       1.00      1.00      1.00         2\n",
      "          33       1.00      0.25      0.40         4\n",
      "          34       0.50      1.00      0.67         2\n",
      "          35       1.00      1.00      1.00         2\n",
      "          36       1.00      1.00      1.00         1\n",
      "          37       1.00      0.50      0.67         4\n",
      "          38       0.67      1.00      0.80         2\n",
      "          39       1.00      0.50      0.67         4\n",
      "\n",
      "    accuracy                           0.76       100\n",
      "   macro avg       0.79      0.76      0.74       100\n",
      "weighted avg       0.85      0.76      0.77       100\n",
      "\n"
     ]
    }
   ],
   "source": [
    "print(classification_report(correct_ids, predicted_ids, zero_division=0))"
   ],
   "metadata": {
    "collapsed": false
   }
  },
  {
   "cell_type": "code",
   "execution_count": 634,
   "outputs": [],
   "source": [],
   "metadata": {
    "collapsed": false
   }
  }
 ],
 "metadata": {
  "kernelspec": {
   "display_name": "Python 3",
   "language": "python",
   "name": "python3"
  },
  "language_info": {
   "codemirror_mode": {
    "name": "ipython",
    "version": 2
   },
   "file_extension": ".py",
   "mimetype": "text/x-python",
   "name": "python",
   "nbconvert_exporter": "python",
   "pygments_lexer": "ipython2",
   "version": "2.7.6"
  }
 },
 "nbformat": 4,
 "nbformat_minor": 0
}
